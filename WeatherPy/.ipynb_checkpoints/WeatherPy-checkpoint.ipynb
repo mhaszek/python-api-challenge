{
 "cells": [
  {
   "cell_type": "markdown",
   "metadata": {},
   "source": [
    "# WeatherPy\n",
    "----\n",
    "\n",
    "#### Note\n",
    "* Instructions have been included for each segment. You do not have to follow them exactly, but they are included to help you think through the steps."
   ]
  },
  {
   "cell_type": "code",
   "execution_count": 49,
   "metadata": {
    "scrolled": true
   },
   "outputs": [],
   "source": [
    "from api_keys import (weather_api_key, g_key)\n",
    "from citipy import citipy\n",
    "import numpy as np\n",
    "from matplotlib import pyplot as plt\n",
    "import pandas as pd\n",
    "import random\n",
    "from random import uniform\n",
    "import requests\n",
    "from scipy.stats import linregress\n",
    "from pprint import pprint"
   ]
  },
  {
   "cell_type": "markdown",
   "metadata": {},
   "source": [
    "## Generate Cities List"
   ]
  },
  {
   "cell_type": "code",
   "execution_count": 3,
   "metadata": {},
   "outputs": [],
   "source": [
    "#Randomly select at least 500 unique (non-repeat) cities based on latitude and longitude.\n",
    "# default 643"
   ]
  },
  {
   "cell_type": "code",
   "execution_count": 61,
   "metadata": {},
   "outputs": [
    {
     "data": {
      "text/plain": [
       "['busselton', 'rosetta', 'port elizabeth', 'tiznit', 'qaanaaq']"
      ]
     },
     "execution_count": 61,
     "metadata": {},
     "output_type": "execute_result"
    }
   ],
   "source": [
    "# Lists for holding data\n",
    "number_of_cities = 5\n",
    "cities = []\n",
    "\n",
    "while len(cities) < number_of_cities:  \n",
    "    lon, lat = uniform(-180,180), uniform(-90, 90)       \n",
    "    city = citipy.nearest_city(lon, lat)   \n",
    "    city_name = city.city_name          \n",
    "    if city_name not in cities:                \n",
    "        cities.append(city_name)\n",
    "            \n",
    "cities"
   ]
  },
  {
   "cell_type": "markdown",
   "metadata": {},
   "source": [
    "### Perform API Calls\n",
    "* Perform a weather check on each city using a series of successive API calls.\n",
    "* Include a print log of each city as it'sbeing processed (with the city number and city name).\n"
   ]
  },
  {
   "cell_type": "code",
   "execution_count": 105,
   "metadata": {
    "scrolled": true
   },
   "outputs": [],
   "source": [
    "# Save config information.\n",
    "url = \"http://api.openweathermap.org/data/2.5/weather?\"\n",
    "units = \"imperial\"\n",
    "    \n",
    "# Create settings parameters\n",
    "#settings = {\"units\": \"metric\", \"APPID\": weather_api_key}\n",
    "\n",
    "# Build partial query URL\n",
    "query_url = f\"{url}appid={weather_api_key}&units={units}&q=\""
   ]
  },
  {
   "cell_type": "code",
   "execution_count": 106,
   "metadata": {
    "scrolled": true
   },
   "outputs": [],
   "source": [
    "# set up lists to hold reponse info\n",
    "Lat = []\n",
    "Lng = []\n",
    "Max_Temp = []\n",
    "Humidity = []\n",
    "Cloudiness = []\n",
    "Wind_Speed = []\n",
    "Country = []\n",
    "Date = []"
   ]
  },
  {
   "cell_type": "code",
   "execution_count": 107,
   "metadata": {},
   "outputs": [
    {
     "name": "stdout",
     "output_type": "stream",
     "text": [
      "The Latitude information received is: [-33.65, 31.4044, -33.918, 29.5833, 77.484]\n",
      "The Longitude information received is: [115.3333, 30.4164, 25.5701, -9.5, -69.3632]\n",
      "The Max Temp information received is: [69.01, 57.2, 68, 58.26, -13]\n",
      "The Humidity information received is: [83, 72, 100, 79, 95]\n",
      "The Cloudiness information received is: [0, 0, 90, 1, 8]\n",
      "The Wind Speed information received is: [1.01, 5.75, 9.22, 2.57, 4.36]\n",
      "The Country information received is: ['AU', 'EG', 'ZA', 'MA', 'GL']\n",
      "The Date information received is: [1616028548, 1616028549, 1616028314, 1616028549, 1616028549]\n"
     ]
    }
   ],
   "source": [
    "for city in cities:\n",
    "    response = requests.get(query_url + city).json()\n",
    "    Lat.append(response['coord']['lat'])\n",
    "    Lng.append(response['coord']['lon'])\n",
    "    Max_Temp.append(response['main']['temp_max'])\n",
    "    Humidity.append(response['main']['humidity'])\n",
    "    Cloudiness.append(response['clouds']['all'])\n",
    "    Wind_Speed.append(response['wind']['speed'])\n",
    "    Country.append(response['sys']['country'])\n",
    "    Date.append(response['dt'])\n",
    "\n",
    "print(f\"The Latitude information received is: {Lat}\")\n",
    "print(f\"The Longitude information received is: {Lng}\")\n",
    "print(f\"The Max Temp information received is: {Max_Temp}\")\n",
    "print(f\"The Humidity information received is: {Humidity}\")\n",
    "print(f\"The Cloudiness information received is: {Cloudiness}\")\n",
    "print(f\"The Wind Speed information received is: {Wind_Speed}\")\n",
    "print(f\"The Country information received is: {Country}\")\n",
    "print(f\"The Date information received is: {Date}\")"
   ]
  },
  {
   "cell_type": "markdown",
   "metadata": {},
   "source": [
    "### Convert Raw Data to DataFrame\n",
    "* Export the city data into a .csv.\n",
    "* Display the DataFrame"
   ]
  },
  {
   "cell_type": "code",
   "execution_count": 108,
   "metadata": {},
   "outputs": [
    {
     "data": {
      "text/html": [
       "<div>\n",
       "<style scoped>\n",
       "    .dataframe tbody tr th:only-of-type {\n",
       "        vertical-align: middle;\n",
       "    }\n",
       "\n",
       "    .dataframe tbody tr th {\n",
       "        vertical-align: top;\n",
       "    }\n",
       "\n",
       "    .dataframe thead th {\n",
       "        text-align: right;\n",
       "    }\n",
       "</style>\n",
       "<table border=\"1\" class=\"dataframe\">\n",
       "  <thead>\n",
       "    <tr style=\"text-align: right;\">\n",
       "      <th></th>\n",
       "      <th>City</th>\n",
       "      <th>Lat</th>\n",
       "      <th>Lng</th>\n",
       "      <th>Max Temp</th>\n",
       "      <th>Humidity</th>\n",
       "      <th>Cloudiness</th>\n",
       "      <th>Wind Speed</th>\n",
       "      <th>Country</th>\n",
       "      <th>Date</th>\n",
       "    </tr>\n",
       "  </thead>\n",
       "  <tbody>\n",
       "    <tr>\n",
       "      <th>0</th>\n",
       "      <td>busselton</td>\n",
       "      <td>-33.6500</td>\n",
       "      <td>115.3333</td>\n",
       "      <td>69.01</td>\n",
       "      <td>83</td>\n",
       "      <td>0</td>\n",
       "      <td>1.01</td>\n",
       "      <td>AU</td>\n",
       "      <td>1616028548</td>\n",
       "    </tr>\n",
       "    <tr>\n",
       "      <th>1</th>\n",
       "      <td>rosetta</td>\n",
       "      <td>31.4044</td>\n",
       "      <td>30.4164</td>\n",
       "      <td>57.20</td>\n",
       "      <td>72</td>\n",
       "      <td>0</td>\n",
       "      <td>5.75</td>\n",
       "      <td>EG</td>\n",
       "      <td>1616028549</td>\n",
       "    </tr>\n",
       "    <tr>\n",
       "      <th>2</th>\n",
       "      <td>port elizabeth</td>\n",
       "      <td>-33.9180</td>\n",
       "      <td>25.5701</td>\n",
       "      <td>68.00</td>\n",
       "      <td>100</td>\n",
       "      <td>90</td>\n",
       "      <td>9.22</td>\n",
       "      <td>ZA</td>\n",
       "      <td>1616028314</td>\n",
       "    </tr>\n",
       "    <tr>\n",
       "      <th>3</th>\n",
       "      <td>tiznit</td>\n",
       "      <td>29.5833</td>\n",
       "      <td>-9.5000</td>\n",
       "      <td>58.26</td>\n",
       "      <td>79</td>\n",
       "      <td>1</td>\n",
       "      <td>2.57</td>\n",
       "      <td>MA</td>\n",
       "      <td>1616028549</td>\n",
       "    </tr>\n",
       "    <tr>\n",
       "      <th>4</th>\n",
       "      <td>qaanaaq</td>\n",
       "      <td>77.4840</td>\n",
       "      <td>-69.3632</td>\n",
       "      <td>-13.00</td>\n",
       "      <td>95</td>\n",
       "      <td>8</td>\n",
       "      <td>4.36</td>\n",
       "      <td>GL</td>\n",
       "      <td>1616028549</td>\n",
       "    </tr>\n",
       "  </tbody>\n",
       "</table>\n",
       "</div>"
      ],
      "text/plain": [
       "             City      Lat       Lng  Max Temp  Humidity  Cloudiness  \\\n",
       "0       busselton -33.6500  115.3333     69.01        83           0   \n",
       "1         rosetta  31.4044   30.4164     57.20        72           0   \n",
       "2  port elizabeth -33.9180   25.5701     68.00       100          90   \n",
       "3          tiznit  29.5833   -9.5000     58.26        79           1   \n",
       "4         qaanaaq  77.4840  -69.3632    -13.00        95           8   \n",
       "\n",
       "   Wind Speed Country        Date  \n",
       "0        1.01      AU  1616028548  \n",
       "1        5.75      EG  1616028549  \n",
       "2        9.22      ZA  1616028314  \n",
       "3        2.57      MA  1616028549  \n",
       "4        4.36      GL  1616028549  "
      ]
     },
     "execution_count": 108,
     "metadata": {},
     "output_type": "execute_result"
    }
   ],
   "source": [
    "# create a data frame from cities, lat, and temp\n",
    "weather_dict = {\n",
    "    \"City\": cities,\n",
    "    \"Lat\": Lat,\n",
    "    \"Lng\": Lng,\n",
    "    \"Max Temp\": Max_Temp,\n",
    "    \"Humidity\": Humidity,\n",
    "    \"Cloudiness\": Cloudiness,    \n",
    "    \"Wind Speed\": Wind_Speed,\n",
    "    \"Country\": Country,\n",
    "    \"Date\": Date,\n",
    "}\n",
    "\n",
    "weather_df = pd.DataFrame(weather_dict)\n",
    "weather_df"
   ]
  },
  {
   "cell_type": "code",
   "execution_count": 109,
   "metadata": {},
   "outputs": [
    {
     "data": {
      "text/html": [
       "<div>\n",
       "<style scoped>\n",
       "    .dataframe tbody tr th:only-of-type {\n",
       "        vertical-align: middle;\n",
       "    }\n",
       "\n",
       "    .dataframe tbody tr th {\n",
       "        vertical-align: top;\n",
       "    }\n",
       "\n",
       "    .dataframe thead th {\n",
       "        text-align: right;\n",
       "    }\n",
       "</style>\n",
       "<table border=\"1\" class=\"dataframe\">\n",
       "  <thead>\n",
       "    <tr style=\"text-align: right;\">\n",
       "      <th></th>\n",
       "      <th>Lat</th>\n",
       "      <th>Lng</th>\n",
       "      <th>Max Temp</th>\n",
       "      <th>Humidity</th>\n",
       "      <th>Cloudiness</th>\n",
       "      <th>Wind Speed</th>\n",
       "      <th>Date</th>\n",
       "    </tr>\n",
       "  </thead>\n",
       "  <tbody>\n",
       "    <tr>\n",
       "      <th>count</th>\n",
       "      <td>5.000000</td>\n",
       "      <td>5.000000</td>\n",
       "      <td>5.000000</td>\n",
       "      <td>5.000000</td>\n",
       "      <td>5.000000</td>\n",
       "      <td>5.000000</td>\n",
       "      <td>5.000000e+00</td>\n",
       "    </tr>\n",
       "    <tr>\n",
       "      <th>mean</th>\n",
       "      <td>14.180740</td>\n",
       "      <td>18.491320</td>\n",
       "      <td>47.894000</td>\n",
       "      <td>85.800000</td>\n",
       "      <td>19.800000</td>\n",
       "      <td>4.582000</td>\n",
       "      <td>1.616029e+09</td>\n",
       "    </tr>\n",
       "    <tr>\n",
       "      <th>std</th>\n",
       "      <td>47.808118</td>\n",
       "      <td>67.217216</td>\n",
       "      <td>34.468361</td>\n",
       "      <td>11.519549</td>\n",
       "      <td>39.385276</td>\n",
       "      <td>3.151661</td>\n",
       "      <td>1.049843e+02</td>\n",
       "    </tr>\n",
       "    <tr>\n",
       "      <th>min</th>\n",
       "      <td>-33.918000</td>\n",
       "      <td>-69.363200</td>\n",
       "      <td>-13.000000</td>\n",
       "      <td>72.000000</td>\n",
       "      <td>0.000000</td>\n",
       "      <td>1.010000</td>\n",
       "      <td>1.616028e+09</td>\n",
       "    </tr>\n",
       "    <tr>\n",
       "      <th>25%</th>\n",
       "      <td>-33.650000</td>\n",
       "      <td>-9.500000</td>\n",
       "      <td>57.200000</td>\n",
       "      <td>79.000000</td>\n",
       "      <td>0.000000</td>\n",
       "      <td>2.570000</td>\n",
       "      <td>1.616029e+09</td>\n",
       "    </tr>\n",
       "    <tr>\n",
       "      <th>50%</th>\n",
       "      <td>29.583300</td>\n",
       "      <td>25.570100</td>\n",
       "      <td>58.260000</td>\n",
       "      <td>83.000000</td>\n",
       "      <td>1.000000</td>\n",
       "      <td>4.360000</td>\n",
       "      <td>1.616029e+09</td>\n",
       "    </tr>\n",
       "    <tr>\n",
       "      <th>75%</th>\n",
       "      <td>31.404400</td>\n",
       "      <td>30.416400</td>\n",
       "      <td>68.000000</td>\n",
       "      <td>95.000000</td>\n",
       "      <td>8.000000</td>\n",
       "      <td>5.750000</td>\n",
       "      <td>1.616029e+09</td>\n",
       "    </tr>\n",
       "    <tr>\n",
       "      <th>max</th>\n",
       "      <td>77.484000</td>\n",
       "      <td>115.333300</td>\n",
       "      <td>69.010000</td>\n",
       "      <td>100.000000</td>\n",
       "      <td>90.000000</td>\n",
       "      <td>9.220000</td>\n",
       "      <td>1.616029e+09</td>\n",
       "    </tr>\n",
       "  </tbody>\n",
       "</table>\n",
       "</div>"
      ],
      "text/plain": [
       "             Lat         Lng   Max Temp    Humidity  Cloudiness  Wind Speed  \\\n",
       "count   5.000000    5.000000   5.000000    5.000000    5.000000    5.000000   \n",
       "mean   14.180740   18.491320  47.894000   85.800000   19.800000    4.582000   \n",
       "std    47.808118   67.217216  34.468361   11.519549   39.385276    3.151661   \n",
       "min   -33.918000  -69.363200 -13.000000   72.000000    0.000000    1.010000   \n",
       "25%   -33.650000   -9.500000  57.200000   79.000000    0.000000    2.570000   \n",
       "50%    29.583300   25.570100  58.260000   83.000000    1.000000    4.360000   \n",
       "75%    31.404400   30.416400  68.000000   95.000000    8.000000    5.750000   \n",
       "max    77.484000  115.333300  69.010000  100.000000   90.000000    9.220000   \n",
       "\n",
       "               Date  \n",
       "count  5.000000e+00  \n",
       "mean   1.616029e+09  \n",
       "std    1.049843e+02  \n",
       "min    1.616028e+09  \n",
       "25%    1.616029e+09  \n",
       "50%    1.616029e+09  \n",
       "75%    1.616029e+09  \n",
       "max    1.616029e+09  "
      ]
     },
     "execution_count": 109,
     "metadata": {},
     "output_type": "execute_result"
    }
   ],
   "source": [
    "weather_df.describe()"
   ]
  },
  {
   "cell_type": "markdown",
   "metadata": {},
   "source": [
    "## Inspect the data and remove the cities where the humidity > 100%.\n",
    "----\n",
    "Skip this step if there are no cities that have humidity > 100%. "
   ]
  },
  {
   "cell_type": "code",
   "execution_count": 110,
   "metadata": {},
   "outputs": [],
   "source": [
    "#  Get the indices of cities that have humidity over 100%.\n",
    "indexNames = weather_df[weather_df['Humidity'] > 100].index"
   ]
  },
  {
   "cell_type": "code",
   "execution_count": 111,
   "metadata": {},
   "outputs": [],
   "source": [
    "# Make a new DataFrame equal to the city data to drop all humidity outliers by index.\n",
    "# Passing \"inplace=False\" will make a copy of the city_data DataFrame, which we call \"clean_city_data\".\n",
    "clean_city_df = weather_df.drop(indexNames, inplace=False)"
   ]
  },
  {
   "cell_type": "code",
   "execution_count": 112,
   "metadata": {},
   "outputs": [
    {
     "data": {
      "text/html": [
       "<div>\n",
       "<style scoped>\n",
       "    .dataframe tbody tr th:only-of-type {\n",
       "        vertical-align: middle;\n",
       "    }\n",
       "\n",
       "    .dataframe tbody tr th {\n",
       "        vertical-align: top;\n",
       "    }\n",
       "\n",
       "    .dataframe thead th {\n",
       "        text-align: right;\n",
       "    }\n",
       "</style>\n",
       "<table border=\"1\" class=\"dataframe\">\n",
       "  <thead>\n",
       "    <tr style=\"text-align: right;\">\n",
       "      <th></th>\n",
       "      <th>Lat</th>\n",
       "      <th>Lng</th>\n",
       "      <th>Max Temp</th>\n",
       "      <th>Humidity</th>\n",
       "      <th>Cloudiness</th>\n",
       "      <th>Wind Speed</th>\n",
       "      <th>Date</th>\n",
       "    </tr>\n",
       "  </thead>\n",
       "  <tbody>\n",
       "    <tr>\n",
       "      <th>count</th>\n",
       "      <td>5.000000</td>\n",
       "      <td>5.000000</td>\n",
       "      <td>5.000000</td>\n",
       "      <td>5.000000</td>\n",
       "      <td>5.000000</td>\n",
       "      <td>5.000000</td>\n",
       "      <td>5.000000e+00</td>\n",
       "    </tr>\n",
       "    <tr>\n",
       "      <th>mean</th>\n",
       "      <td>14.180740</td>\n",
       "      <td>18.491320</td>\n",
       "      <td>8.474000</td>\n",
       "      <td>87.600000</td>\n",
       "      <td>35.800000</td>\n",
       "      <td>2.856000</td>\n",
       "      <td>1.616026e+09</td>\n",
       "    </tr>\n",
       "    <tr>\n",
       "      <th>std</th>\n",
       "      <td>47.808118</td>\n",
       "      <td>67.217216</td>\n",
       "      <td>18.339059</td>\n",
       "      <td>13.088163</td>\n",
       "      <td>49.022444</td>\n",
       "      <td>1.402366</td>\n",
       "      <td>1.643168e+00</td>\n",
       "    </tr>\n",
       "    <tr>\n",
       "      <th>min</th>\n",
       "      <td>-33.918000</td>\n",
       "      <td>-69.363200</td>\n",
       "      <td>-24.080000</td>\n",
       "      <td>72.000000</td>\n",
       "      <td>0.000000</td>\n",
       "      <td>1.130000</td>\n",
       "      <td>1.616026e+09</td>\n",
       "    </tr>\n",
       "    <tr>\n",
       "      <th>25%</th>\n",
       "      <td>-33.650000</td>\n",
       "      <td>-9.500000</td>\n",
       "      <td>14.000000</td>\n",
       "      <td>75.000000</td>\n",
       "      <td>0.000000</td>\n",
       "      <td>2.020000</td>\n",
       "      <td>1.616026e+09</td>\n",
       "    </tr>\n",
       "    <tr>\n",
       "      <th>50%</th>\n",
       "      <td>29.583300</td>\n",
       "      <td>25.570100</td>\n",
       "      <td>15.230000</td>\n",
       "      <td>94.000000</td>\n",
       "      <td>0.000000</td>\n",
       "      <td>2.570000</td>\n",
       "      <td>1.616026e+09</td>\n",
       "    </tr>\n",
       "    <tr>\n",
       "      <th>75%</th>\n",
       "      <td>31.404400</td>\n",
       "      <td>30.416400</td>\n",
       "      <td>17.220000</td>\n",
       "      <td>97.000000</td>\n",
       "      <td>89.000000</td>\n",
       "      <td>4.120000</td>\n",
       "      <td>1.616026e+09</td>\n",
       "    </tr>\n",
       "    <tr>\n",
       "      <th>max</th>\n",
       "      <td>77.484000</td>\n",
       "      <td>115.333300</td>\n",
       "      <td>20.000000</td>\n",
       "      <td>100.000000</td>\n",
       "      <td>90.000000</td>\n",
       "      <td>4.440000</td>\n",
       "      <td>1.616026e+09</td>\n",
       "    </tr>\n",
       "  </tbody>\n",
       "</table>\n",
       "</div>"
      ],
      "text/plain": [
       "             Lat         Lng   Max Temp    Humidity  Cloudiness  Wind Speed  \\\n",
       "count   5.000000    5.000000   5.000000    5.000000    5.000000    5.000000   \n",
       "mean   14.180740   18.491320   8.474000   87.600000   35.800000    2.856000   \n",
       "std    47.808118   67.217216  18.339059   13.088163   49.022444    1.402366   \n",
       "min   -33.918000  -69.363200 -24.080000   72.000000    0.000000    1.130000   \n",
       "25%   -33.650000   -9.500000  14.000000   75.000000    0.000000    2.020000   \n",
       "50%    29.583300   25.570100  15.230000   94.000000    0.000000    2.570000   \n",
       "75%    31.404400   30.416400  17.220000   97.000000   89.000000    4.120000   \n",
       "max    77.484000  115.333300  20.000000  100.000000   90.000000    4.440000   \n",
       "\n",
       "               Date  \n",
       "count  5.000000e+00  \n",
       "mean   1.616026e+09  \n",
       "std    1.643168e+00  \n",
       "min    1.616026e+09  \n",
       "25%    1.616026e+09  \n",
       "50%    1.616026e+09  \n",
       "75%    1.616026e+09  \n",
       "max    1.616026e+09  "
      ]
     },
     "execution_count": 112,
     "metadata": {},
     "output_type": "execute_result"
    }
   ],
   "source": [
    "clean_weather_df.describe()"
   ]
  },
  {
   "cell_type": "markdown",
   "metadata": {},
   "source": [
    "## Plotting the Data\n",
    "* Use proper labeling of the plots using plot titles (including date of analysis) and axes labels.\n",
    "* Save the plotted figures as .pngs."
   ]
  },
  {
   "cell_type": "markdown",
   "metadata": {},
   "source": [
    "## Latitude vs. Temperature Plot"
   ]
  },
  {
   "cell_type": "code",
   "execution_count": 114,
   "metadata": {
    "scrolled": true
   },
   "outputs": [
    {
     "data": {
      "image/png": "[encoded data removed]",
      "text/plain": [
       "<Figure size 432x288 with 1 Axes>"
      ]
     },
     "metadata": {
      "needs_background": "light"
     },
     "output_type": "display_data"
    }
   ],
   "source": [
    "lat_temp_pl = clean_weather_df.plot(kind=\"scatter\", x=\"Lat\", y=\"Max Temp\", grid=True, figsize=(6,4), facecolors=\"blue\", edgecolors=\"black\", s=35,\n",
    "              title=(f'City Latitude vs. Max Temperature (todays date)'))\n",
    "\n",
    "\n",
    "lat_temp_pl.set_xlabel(\"Latitude\")\n",
    "lat_temp_pl.set_ylabel(\"Max Temperature (F)\")\n",
    "\n",
    "plt.show()"
   ]
  },
  {
   "cell_type": "markdown",
   "metadata": {},
   "source": [
    "## Latitude vs. Humidity Plot"
   ]
  },
  {
   "cell_type": "code",
   "execution_count": 115,
   "metadata": {},
   "outputs": [
    {
     "data": {
      "image/png": "[encoded data removed]",
      "text/plain": [
       "<Figure size 432x288 with 1 Axes>"
      ]
     },
     "metadata": {
      "needs_background": "light"
     },
     "output_type": "display_data"
    }
   ],
   "source": [
    "lat_hum_pl = clean_weather_df.plot(kind=\"scatter\", x=\"Lat\", y=\"Humidity\", grid=True, figsize=(6,4), facecolors=\"blue\", edgecolors=\"black\", s=35,\n",
    "              title=(f'City Latitude vs. Humidity (todays date)'))\n",
    "\n",
    "\n",
    "lat_hum_pl.set_xlabel(\"Latitude\")\n",
    "lat_hum_pl.set_ylabel(\"Humidity (%)\")\n",
    "\n",
    "plt.show()"
   ]
  },
  {
   "cell_type": "markdown",
   "metadata": {},
   "source": [
    "## Latitude vs. Cloudiness Plot"
   ]
  },
  {
   "cell_type": "code",
   "execution_count": 116,
   "metadata": {},
   "outputs": [
    {
     "data": {
      "image/png": "[encoded data removed]",
      "text/plain": [
       "<Figure size 432x288 with 1 Axes>"
      ]
     },
     "metadata": {
      "needs_background": "light"
     },
     "output_type": "display_data"
    }
   ],
   "source": [
    "lat_cloud_pl = clean_weather_df.plot(kind=\"scatter\", x=\"Lat\", y=\"Cloudiness\", grid=True, figsize=(6,4), facecolors=\"blue\", edgecolors=\"black\", s=35,\n",
    "              title=(f'City Latitude vs. Cloudiness (todays date)'))\n",
    "\n",
    "\n",
    "lat_cloud_pl.set_xlabel(\"Latitude\")\n",
    "lat_cloud_pl.set_ylabel(\"Cloudiness (%)\")\n",
    "\n",
    "plt.show()"
   ]
  },
  {
   "cell_type": "markdown",
   "metadata": {},
   "source": [
    "## Latitude vs. Wind Speed Plot"
   ]
  },
  {
   "cell_type": "code",
   "execution_count": 117,
   "metadata": {},
   "outputs": [
    {
     "data": {
      "image/png": "[encoded data removed]",
      "text/plain": [
       "<Figure size 432x288 with 1 Axes>"
      ]
     },
     "metadata": {
      "needs_background": "light"
     },
     "output_type": "display_data"
    }
   ],
   "source": [
    "lat_wind_pl = clean_weather_df.plot(kind=\"scatter\", x=\"Lat\", y=\"Wind Speed\", grid=True, figsize=(6,4), facecolors=\"blue\", edgecolors=\"black\", s=35,\n",
    "              title=(f'City Latitude vs. Wind Speed (todays date)'))\n",
    "\n",
    "lat_wind_pl.set_xlabel(\"Latitude\")\n",
    "lat_wind_pl.set_ylabel(\"Wind Speed (mph)\")\n",
    "\n",
    "plt.show()"
   ]
  },
  {
   "cell_type": "markdown",
   "metadata": {},
   "source": [
    "## Linear Regression"
   ]
  },
  {
   "cell_type": "code",
   "execution_count": 118,
   "metadata": {},
   "outputs": [],
   "source": [
    "northern_hem_df = clean_weather_df.loc[clean_weather_df['Lat'] >= 0 ].copy()\n",
    "\n",
    "southern_hem_df = clean_weather_df.loc[clean_weather_df['Lat'] < 0 ].copy()"
   ]
  },
  {
   "cell_type": "code",
   "execution_count": 119,
   "metadata": {
    "scrolled": false
   },
   "outputs": [
    {
     "data": {
      "text/html": [
       "<div>\n",
       "<style scoped>\n",
       "    .dataframe tbody tr th:only-of-type {\n",
       "        vertical-align: middle;\n",
       "    }\n",
       "\n",
       "    .dataframe tbody tr th {\n",
       "        vertical-align: top;\n",
       "    }\n",
       "\n",
       "    .dataframe thead th {\n",
       "        text-align: right;\n",
       "    }\n",
       "</style>\n",
       "<table border=\"1\" class=\"dataframe\">\n",
       "  <thead>\n",
       "    <tr style=\"text-align: right;\">\n",
       "      <th></th>\n",
       "      <th>City</th>\n",
       "      <th>Lat</th>\n",
       "      <th>Lng</th>\n",
       "      <th>Max Temp</th>\n",
       "      <th>Humidity</th>\n",
       "      <th>Cloudiness</th>\n",
       "      <th>Wind Speed</th>\n",
       "      <th>Country</th>\n",
       "      <th>Date</th>\n",
       "    </tr>\n",
       "  </thead>\n",
       "  <tbody>\n",
       "    <tr>\n",
       "      <th>1</th>\n",
       "      <td>rosetta</td>\n",
       "      <td>31.4044</td>\n",
       "      <td>30.4164</td>\n",
       "      <td>14.00</td>\n",
       "      <td>72</td>\n",
       "      <td>0</td>\n",
       "      <td>2.57</td>\n",
       "      <td>EG</td>\n",
       "      <td>1616026307</td>\n",
       "    </tr>\n",
       "    <tr>\n",
       "      <th>3</th>\n",
       "      <td>tiznit</td>\n",
       "      <td>29.5833</td>\n",
       "      <td>-9.5000</td>\n",
       "      <td>15.23</td>\n",
       "      <td>75</td>\n",
       "      <td>0</td>\n",
       "      <td>1.13</td>\n",
       "      <td>MA</td>\n",
       "      <td>1616026311</td>\n",
       "    </tr>\n",
       "    <tr>\n",
       "      <th>4</th>\n",
       "      <td>qaanaaq</td>\n",
       "      <td>77.4840</td>\n",
       "      <td>-69.3632</td>\n",
       "      <td>-24.08</td>\n",
       "      <td>94</td>\n",
       "      <td>89</td>\n",
       "      <td>2.02</td>\n",
       "      <td>GL</td>\n",
       "      <td>1616026311</td>\n",
       "    </tr>\n",
       "  </tbody>\n",
       "</table>\n",
       "</div>"
      ],
      "text/plain": [
       "      City      Lat      Lng  Max Temp  Humidity  Cloudiness  Wind Speed  \\\n",
       "1  rosetta  31.4044  30.4164     14.00        72           0        2.57   \n",
       "3   tiznit  29.5833  -9.5000     15.23        75           0        1.13   \n",
       "4  qaanaaq  77.4840 -69.3632    -24.08        94          89        2.02   \n",
       "\n",
       "  Country        Date  \n",
       "1      EG  1616026307  \n",
       "3      MA  1616026311  \n",
       "4      GL  1616026311  "
      ]
     },
     "execution_count": 119,
     "metadata": {},
     "output_type": "execute_result"
    }
   ],
   "source": [
    "northern_hem_df"
   ]
  },
  {
   "cell_type": "code",
   "execution_count": 120,
   "metadata": {},
   "outputs": [
    {
     "data": {
      "text/html": [
       "<div>\n",
       "<style scoped>\n",
       "    .dataframe tbody tr th:only-of-type {\n",
       "        vertical-align: middle;\n",
       "    }\n",
       "\n",
       "    .dataframe tbody tr th {\n",
       "        vertical-align: top;\n",
       "    }\n",
       "\n",
       "    .dataframe thead th {\n",
       "        text-align: right;\n",
       "    }\n",
       "</style>\n",
       "<table border=\"1\" class=\"dataframe\">\n",
       "  <thead>\n",
       "    <tr style=\"text-align: right;\">\n",
       "      <th></th>\n",
       "      <th>City</th>\n",
       "      <th>Lat</th>\n",
       "      <th>Lng</th>\n",
       "      <th>Max Temp</th>\n",
       "      <th>Humidity</th>\n",
       "      <th>Cloudiness</th>\n",
       "      <th>Wind Speed</th>\n",
       "      <th>Country</th>\n",
       "      <th>Date</th>\n",
       "    </tr>\n",
       "  </thead>\n",
       "  <tbody>\n",
       "    <tr>\n",
       "      <th>0</th>\n",
       "      <td>busselton</td>\n",
       "      <td>-33.650</td>\n",
       "      <td>115.3333</td>\n",
       "      <td>17.22</td>\n",
       "      <td>97</td>\n",
       "      <td>0</td>\n",
       "      <td>4.44</td>\n",
       "      <td>AU</td>\n",
       "      <td>1616026310</td>\n",
       "    </tr>\n",
       "    <tr>\n",
       "      <th>2</th>\n",
       "      <td>port elizabeth</td>\n",
       "      <td>-33.918</td>\n",
       "      <td>25.5701</td>\n",
       "      <td>20.00</td>\n",
       "      <td>100</td>\n",
       "      <td>90</td>\n",
       "      <td>4.12</td>\n",
       "      <td>ZA</td>\n",
       "      <td>1616026310</td>\n",
       "    </tr>\n",
       "  </tbody>\n",
       "</table>\n",
       "</div>"
      ],
      "text/plain": [
       "             City     Lat       Lng  Max Temp  Humidity  Cloudiness  \\\n",
       "0       busselton -33.650  115.3333     17.22        97           0   \n",
       "2  port elizabeth -33.918   25.5701     20.00       100          90   \n",
       "\n",
       "   Wind Speed Country        Date  \n",
       "0        4.44      AU  1616026310  \n",
       "2        4.12      ZA  1616026310  "
      ]
     },
     "execution_count": 120,
     "metadata": {},
     "output_type": "execute_result"
    }
   ],
   "source": [
    "southern_hem_df"
   ]
  },
  {
   "cell_type": "markdown",
   "metadata": {},
   "source": [
    "####  Northern Hemisphere - Max Temp vs. Latitude Linear Regression"
   ]
  },
  {
   "cell_type": "code",
   "execution_count": 146,
   "metadata": {},
   "outputs": [
    {
     "name": "stdout",
     "output_type": "stream",
     "text": [
      "The r-squared is: 0.9999636550223248\n"
     ]
    },
    {
     "data": {
      "image/png": "[encoded data removed]",
      "text/plain": [
       "<Figure size 432x288 with 1 Axes>"
      ]
     },
     "metadata": {
      "needs_background": "light"
     },
     "output_type": "display_data"
    }
   ],
   "source": [
    "nor_temp_pl = northern_hem_df.plot(kind=\"scatter\", x=\"Lat\", y=\"Max Temp\", figsize=(6,4), facecolors=\"blue\", s=35,\n",
    "              title=(f'Northern Hemisphere - City Latitude vs. Max Temperature (todays date)'))\n",
    "\n",
    "(slope, intercept, rvalue, pvalue, stderr) = linregress(northern_hem_df['Lat'], northern_hem_df['Max Temp'])\n",
    "\n",
    "# R-squared measures how close the data are to the fitted regression line\n",
    "print(f\"The r-squared is: {rvalue**2}\")\n",
    "\n",
    "regress_values = northern_hem_df['Lat'] * slope + intercept\n",
    "\n",
    "line_eq = \"y = \" + str(round(slope,2)) + \"x + \" + str(round(intercept,2))\n",
    "\n",
    "plt.plot(northern_hem_df['Lat'],regress_values,\"r-\")\n",
    "\n",
    "plt.annotate(line_eq,(30,-20),fontsize=15,color=\"red\")\n",
    "\n",
    "\n",
    "nor_temp_pl.set_xlabel(\"Latitude\")\n",
    "nor_temp_pl.set_ylabel(\"Max Temperature (F)\")\n",
    "\n",
    "plt.show()\n"
   ]
  },
  {
   "cell_type": "markdown",
   "metadata": {},
   "source": [
    "####  Southern Hemisphere - Max Temp vs. Latitude Linear Regression"
   ]
  },
  {
   "cell_type": "code",
   "execution_count": 124,
   "metadata": {},
   "outputs": [
    {
     "data": {
      "image/png": "[encoded data removed]",
      "text/plain": [
       "<Figure size 432x288 with 1 Axes>"
      ]
     },
     "metadata": {
      "needs_background": "light"
     },
     "output_type": "display_data"
    }
   ],
   "source": [
    "sou_temp_pl = southern_hem_df.plot(kind=\"scatter\", x=\"Lat\", y=\"Max Temp\", figsize=(6,4), facecolors=\"blue\", s=35,\n",
    "              title=(f'Southern Hemisphere - City Latitude vs. Max Temperature (todays date)'))\n",
    "\n",
    "\n",
    "sou_temp_pl.set_xlabel(\"Latitude\")\n",
    "sou_temp_pl.set_ylabel(\"Max Temperature (F)\")\n",
    "\n",
    "plt.show()"
   ]
  },
  {
   "cell_type": "markdown",
   "metadata": {},
   "source": [
    "####  Northern Hemisphere - Humidity (%) vs. Latitude Linear Regression"
   ]
  },
  {
   "cell_type": "code",
   "execution_count": 132,
   "metadata": {},
   "outputs": [
    {
     "data": {
      "image/png": "[encoded data removed]",
      "text/plain": [
       "<Figure size 432x288 with 1 Axes>"
      ]
     },
     "metadata": {
      "needs_background": "light"
     },
     "output_type": "display_data"
    }
   ],
   "source": [
    "nor_hum_pl = northern_hem_df.plot(kind=\"scatter\", x=\"Lat\", y=\"Humidity\", figsize=(6,4), facecolors=\"blue\", s=35,\n",
    "              title=(f'Northern Hemisphere - City Latitude vs. Humidity (todays date)'))\n",
    "\n",
    "\n",
    "nor_hum_pl.set_xlabel(\"Latitude\")\n",
    "nor_hum_pl.set_ylabel(\"Humidity (%)\")\n",
    "\n",
    "plt.show()"
   ]
  },
  {
   "cell_type": "markdown",
   "metadata": {},
   "source": [
    "####  Southern Hemisphere - Humidity (%) vs. Latitude Linear Regression"
   ]
  },
  {
   "cell_type": "code",
   "execution_count": 133,
   "metadata": {},
   "outputs": [
    {
     "data": {
      "image/png": "[encoded data removed]",
      "text/plain": [
       "<Figure size 432x288 with 1 Axes>"
      ]
     },
     "metadata": {
      "needs_background": "light"
     },
     "output_type": "display_data"
    }
   ],
   "source": [
    "sou_hum_pl = southern_hem_df.plot(kind=\"scatter\", x=\"Lat\", y=\"Humidity\", figsize=(6,4), facecolors=\"blue\", s=35,\n",
    "              title=(f'Southern Hemisphere - City Latitude vs. Humidity (todays date)'))\n",
    "\n",
    "\n",
    "sou_hum_pl.set_xlabel(\"Latitude\")\n",
    "sou_hum_pl.set_ylabel(\"Humidity (%)\")\n",
    "\n",
    "plt.show()"
   ]
  },
  {
   "cell_type": "markdown",
   "metadata": {},
   "source": [
    "####  Northern Hemisphere - Cloudiness (%) vs. Latitude Linear Regression"
   ]
  },
  {
   "cell_type": "code",
   "execution_count": 134,
   "metadata": {},
   "outputs": [
    {
     "data": {
      "image/png": "[encoded data removed]",
      "text/plain": [
       "<Figure size 432x288 with 1 Axes>"
      ]
     },
     "metadata": {
      "needs_background": "light"
     },
     "output_type": "display_data"
    }
   ],
   "source": [
    "nor_cloud_pl = northern_hem_df.plot(kind=\"scatter\", x=\"Lat\", y=\"Cloudiness\", figsize=(6,4), facecolors=\"blue\", s=35,\n",
    "              title=(f'Northern Hemisphere - City Latitude vs. Cloudiness (todays date)'))\n",
    "\n",
    "\n",
    "nor_cloud_pl.set_xlabel(\"Latitude\")\n",
    "nor_cloud_pl.set_ylabel(\"Cloudiness (%)\")\n",
    "\n",
    "plt.show()"
   ]
  },
  {
   "cell_type": "markdown",
   "metadata": {},
   "source": [
    "####  Southern Hemisphere - Cloudiness (%) vs. Latitude Linear Regression"
   ]
  },
  {
   "cell_type": "code",
   "execution_count": 135,
   "metadata": {},
   "outputs": [
    {
     "data": {
      "image/png": "[encoded data removed]",
      "text/plain": [
       "<Figure size 432x288 with 1 Axes>"
      ]
     },
     "metadata": {
      "needs_background": "light"
     },
     "output_type": "display_data"
    }
   ],
   "source": [
    "sou_cloud_pl = southern_hem_df.plot(kind=\"scatter\", x=\"Lat\", y=\"Cloudiness\", figsize=(6,4), facecolors=\"blue\", s=35,\n",
    "              title=(f'Southern Hemisphere - City Latitude vs. Cloudiness (todays date)'))\n",
    "\n",
    "\n",
    "sou_cloud_pl.set_xlabel(\"Latitude\")\n",
    "sou_cloud_pl.set_ylabel(\"Cloudiness (%)\")\n",
    "\n",
    "plt.show()"
   ]
  },
  {
   "cell_type": "markdown",
   "metadata": {},
   "source": [
    "####  Northern Hemisphere - Wind Speed (mph) vs. Latitude Linear Regression"
   ]
  },
  {
   "cell_type": "code",
   "execution_count": 136,
   "metadata": {},
   "outputs": [
    {
     "data": {
      "image/png": "[encoded data removed]",
      "text/plain": [
       "<Figure size 432x288 with 1 Axes>"
      ]
     },
     "metadata": {
      "needs_background": "light"
     },
     "output_type": "display_data"
    }
   ],
   "source": [
    "nor_wind_pl = northern_hem_df.plot(kind=\"scatter\", x=\"Lat\", y=\"Wind Speed\", figsize=(6,4), facecolors=\"blue\", s=35,\n",
    "              title=(f'Northern Hemisphere - City Latitude vs. Wind Speed (todays date)'))\n",
    "\n",
    "\n",
    "nor_wind_pl.set_xlabel(\"Latitude\")\n",
    "nor_wind_pl.set_ylabel(\"Wind Speed (mph)\")\n",
    "\n",
    "plt.show()"
   ]
  },
  {
   "cell_type": "markdown",
   "metadata": {},
   "source": [
    "####  Southern Hemisphere - Wind Speed (mph) vs. Latitude Linear Regression"
   ]
  },
  {
   "cell_type": "code",
   "execution_count": 137,
   "metadata": {},
   "outputs": [
    {
     "data": {
      "image/png": "[encoded data removed]",
      "text/plain": [
       "<Figure size 432x288 with 1 Axes>"
      ]
     },
     "metadata": {
      "needs_background": "light"
     },
     "output_type": "display_data"
    }
   ],
   "source": [
    "sou_wind_pl = southern_hem_df.plot(kind=\"scatter\", x=\"Lat\", y=\"Wind Speed\", figsize=(6,4), facecolors=\"blue\", s=35,\n",
    "              title=(f'Southern Hemisphere - City Latitude vs. Wind Speed (todays date)'))\n",
    "\n",
    "\n",
    "sou_wind_pl.set_xlabel(\"Latitude\")\n",
    "sou_wind_pl.set_ylabel(\"Wind Speed (mph)\")\n",
    "\n",
    "plt.show()"
   ]
  },
  {
   "cell_type": "code",
   "execution_count": null,
   "metadata": {},
   "outputs": [],
   "source": []
  }
 ],
 "metadata": {
  "anaconda-cloud": {},
  "kernel_info": {
   "name": "python3"
  },
  "kernelspec": {
   "display_name": "Python 3",
   "language": "python",
   "name": "python3"
  },
  "language_info": {
   "codemirror_mode": {
    "name": "ipython",
    "version": 3
   },
   "file_extension": ".py",
   "mimetype": "text/x-python",
   "name": "python",
   "nbconvert_exporter": "python",
   "pygments_lexer": "ipython3",
   "version": "3.6.10"
  },
  "latex_envs": {
   "LaTeX_envs_menu_present": true,
   "autoclose": false,
   "autocomplete": true,
   "bibliofile": "biblio.bib",
   "cite_by": "apalike",
   "current_citInitial": 1,
   "eqLabelWithNumbers": true,
   "eqNumInitial": 1,
   "hotkeys": {
    "equation": "Ctrl-E",
    "itemize": "Ctrl-I"
   },
   "labels_anchors": false,
   "latex_user_defs": false,
   "report_style_numbering": false,
   "user_envs_cfg": false
  },
  "nteract": {
   "version": "0.12.3"
  }
 },
 "nbformat": 4,
 "nbformat_minor": 2
}
