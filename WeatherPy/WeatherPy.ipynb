{
 "cells": [
  {
   "cell_type": "markdown",
   "metadata": {},
   "source": [
    "# WeatherPy\n",
    "----\n",
    "\n",
    "#### Note\n",
    "* Instructions have been included for each segment. You do not have to follow them exactly, but they are included to help you think through the steps."
   ]
  },
  {
   "cell_type": "code",
   "execution_count": 1,
   "metadata": {
    "scrolled": true
   },
   "outputs": [],
   "source": [
    "from api_keys import (weather_api_key, g_key)\n",
    "from citipy import citipy\n",
    "import numpy as np\n",
    "from matplotlib import pyplot as plt\n",
    "import pandas as pd\n",
    "from random import uniform\n",
    "import requests\n",
    "from scipy.stats import linregress"
   ]
  },
  {
   "cell_type": "markdown",
   "metadata": {},
   "source": [
    "## Generate Cities List"
   ]
  },
  {
   "cell_type": "code",
   "execution_count": null,
   "metadata": {},
   "outputs": [],
   "source": [
    "#Randomly select at least 500 unique (non-repeat) cities based on latitude and longitude.\n",
    "# default 643"
   ]
  },
  {
   "cell_type": "code",
   "execution_count": 2,
   "metadata": {},
   "outputs": [
    {
     "data": {
      "text/plain": [
       "['ushuaia', 'busselton', 'murud', 'cape town', 'norton shores']"
      ]
     },
     "execution_count": 2,
     "metadata": {},
     "output_type": "execute_result"
    }
   ],
   "source": [
    "# Lists for holding data\n",
    "number_of_cities = 5\n",
    "cities = []\n",
    "\n",
    "while len(cities) < number_of_cities:  \n",
    "    lon, lat = uniform(-180,180), uniform(-90, 90)       \n",
    "    city = citipy.nearest_city(lon, lat)   \n",
    "    city_name = city.city_name          \n",
    "    if city_name not in cities:                \n",
    "        cities.append(city_name)\n",
    "            \n",
    "cities"
   ]
  },
  {
   "cell_type": "markdown",
   "metadata": {},
   "source": [
    "### Perform API Calls\n",
    "* Perform a weather check on each city using a series of successive API calls.\n",
    "* Include a print log of each city as it'sbeing processed (with the city number and city name).\n"
   ]
  },
  {
   "cell_type": "code",
   "execution_count": 3,
   "metadata": {
    "scrolled": true
   },
   "outputs": [],
   "source": [
    "# Save config information.\n",
    "url = \"http://api.openweathermap.org/data/2.5/weather?\"\n",
    "\n",
    "params = {\n",
    "    \"units\": \"metric\", \n",
    "    \"appid\": weather_api_key,\n",
    "    \"q\": \"\"\n",
    "}"
   ]
  },
  {
   "cell_type": "code",
   "execution_count": 4,
   "metadata": {
    "scrolled": true
   },
   "outputs": [],
   "source": [
    "# set up lists to hold reponse info\n",
    "Name = []\n",
    "Lat = []\n",
    "Lng = []\n",
    "Max_Temp = []\n",
    "Humidity = []\n",
    "Cloudiness = []\n",
    "Wind_Speed = []\n",
    "Country = []\n",
    "Date = []"
   ]
  },
  {
   "cell_type": "code",
   "execution_count": 5,
   "metadata": {
    "scrolled": true
   },
   "outputs": [
    {
     "name": "stdout",
     "output_type": "stream",
     "text": [
      "Beginning Data Retrieval\n",
      "-----------------------------\n",
      "Processing Record 1 of Set 1 | ushuaia\n",
      "Processing Record 2 of Set 1 | busselton\n",
      "Processing Record 1 of Set 2 | murud\n",
      "Processing Record 2 of Set 2 | cape town\n",
      "Processing Record 1 of Set 3 | norton shores\n",
      "-----------------------------\n",
      "Data Retrieval Complete \n",
      "-----------------------------\n"
     ]
    }
   ],
   "source": [
    "print('Beginning Data Retrieval')\n",
    "print('-----------------------------')\n",
    "\n",
    "sets = 1\n",
    "records = 1\n",
    "\n",
    "for i, city in enumerate(cities):\n",
    "    \n",
    "    if (i % 2 == 0 and i >= 2):\n",
    "        sets += 1\n",
    "        records = 1\n",
    "    \n",
    "    params['q'] = city\n",
    "    response = requests.get(url, params=params).json()\n",
    "\n",
    "    print(f\"Processing Record {records} of Set {sets} | {city}\")    \n",
    "    \n",
    "    try:\n",
    "        Lat.append(response['coord']['lat'])\n",
    "        Lng.append(response['coord']['lon'])\n",
    "        Max_Temp.append(response['main']['temp_max'])\n",
    "        Humidity.append(response['main']['humidity'])\n",
    "        Cloudiness.append(response['clouds']['all'])\n",
    "        Wind_Speed.append(response['wind']['speed'])\n",
    "        Country.append(response['sys']['country'])\n",
    "        Date.append(response['dt'])\n",
    "        Name.append(city)\n",
    "     \n",
    "    except:\n",
    "        print(\"City not found. Skipping...\")\n",
    "        pass\n",
    "    \n",
    "    records +=1      \n",
    "\n",
    "print('-----------------------------')        \n",
    "print('Data Retrieval Complete ')\n",
    "print('-----------------------------')  "
   ]
  },
  {
   "cell_type": "markdown",
   "metadata": {},
   "source": [
    "### Convert Raw Data to DataFrame\n",
    "* Export the city data into a .csv.\n",
    "* Display the DataFrame"
   ]
  },
  {
   "cell_type": "code",
   "execution_count": null,
   "metadata": {
    "scrolled": true
   },
   "outputs": [],
   "source": [
    "# create a data frame from cities, lat, and temp\n",
    "weather_dict = {\n",
    "    \"City\": Name,\n",
    "    \"Lat\": Lat,\n",
    "    \"Lng\": Lng,\n",
    "    \"Max Temp\": Max_Temp,\n",
    "    \"Humidity\": Humidity,\n",
    "    \"Cloudiness\": Cloudiness,    \n",
    "    \"Wind Speed\": Wind_Speed,\n",
    "    \"Country\": Country,\n",
    "    \"Date\": Date,\n",
    "}\n",
    "\n",
    "weather_df = pd.DataFrame(weather_dict)\n",
    "weather_df"
   ]
  },
  {
   "cell_type": "code",
   "execution_count": null,
   "metadata": {},
   "outputs": [],
   "source": [
    "weather_df.describe()"
   ]
  },
  {
   "cell_type": "code",
   "execution_count": null,
   "metadata": {},
   "outputs": [],
   "source": [
    "weather_df[['City', 'Cloudiness', 'Country','Date', 'Humidity', 'Lat', 'Lng', 'Max Temp', 'Wind Speed']].to_csv(\"../output_data/cities.csv\", encoding=\"utf-8\", index=True, header=True, index_label=\"City_ID\")\n"
   ]
  },
  {
   "cell_type": "markdown",
   "metadata": {},
   "source": [
    "## Inspect the data and remove the cities where the humidity > 100%.\n",
    "----\n",
    "Skip this step if there are no cities that have humidity > 100%. "
   ]
  },
  {
   "cell_type": "code",
   "execution_count": null,
   "metadata": {},
   "outputs": [],
   "source": [
    "#  Get the indices of cities that have humidity over 100%.\n",
    "indexNames = weather_df[weather_df['Humidity'] > 100].index"
   ]
  },
  {
   "cell_type": "code",
   "execution_count": null,
   "metadata": {},
   "outputs": [],
   "source": [
    "# Make a new DataFrame equal to the city data to drop all humidity outliers by index.\n",
    "# Passing \"inplace=False\" will make a copy of the city_data DataFrame, which we call \"clean_city_data\".\n",
    "clean_city_df = weather_df.drop(indexNames, inplace=False)"
   ]
  },
  {
   "cell_type": "code",
   "execution_count": null,
   "metadata": {},
   "outputs": [],
   "source": [
    "clean_city_df.describe()"
   ]
  },
  {
   "cell_type": "markdown",
   "metadata": {},
   "source": [
    "## Plotting the Data\n",
    "* Use proper labeling of the plots using plot titles (including date of analysis) and axes labels.\n",
    "* Save the plotted figures as .pngs."
   ]
  },
  {
   "cell_type": "markdown",
   "metadata": {},
   "source": [
    "## Latitude vs. Temperature Plot"
   ]
  },
  {
   "cell_type": "code",
   "execution_count": null,
   "metadata": {
    "scrolled": false
   },
   "outputs": [],
   "source": [
    "lat_temp_pl = clean_city_df.plot(kind=\"scatter\", x=\"Lat\", y=\"Max Temp\", grid=True, figsize=(6,4), facecolors=\"blue\", edgecolors=\"black\", s=35,\n",
    "              title=(f'City Latitude vs. Max Temperature (todays date)'))\n",
    "\n",
    "\n",
    "lat_temp_pl.set_xlabel(\"Latitude\")\n",
    "lat_temp_pl.set_ylabel(\"Max Temperature (C)\")\n",
    "\n",
    "plt.savefig(\"../output_data/TemperatureVsLatitude.png\")\n",
    "plt.show()"
   ]
  },
  {
   "cell_type": "markdown",
   "metadata": {},
   "source": [
    "## Latitude vs. Humidity Plot"
   ]
  },
  {
   "cell_type": "code",
   "execution_count": null,
   "metadata": {
    "scrolled": true
   },
   "outputs": [],
   "source": [
    "lat_hum_pl = clean_city_df.plot(kind=\"scatter\", x=\"Lat\", y=\"Humidity\", grid=True, figsize=(6,4), facecolors=\"blue\", edgecolors=\"black\", s=35,\n",
    "              title=(f'City Latitude vs. Humidity (todays date)'))\n",
    "\n",
    "\n",
    "lat_hum_pl.set_xlabel(\"Latitude\")\n",
    "lat_hum_pl.set_ylabel(\"Humidity (%)\")\n",
    "\n",
    "plt.savefig(\"../output_data/HumidityVsLatitude.png\")\n",
    "plt.show()"
   ]
  },
  {
   "cell_type": "markdown",
   "metadata": {},
   "source": [
    "## Latitude vs. Cloudiness Plot"
   ]
  },
  {
   "cell_type": "code",
   "execution_count": null,
   "metadata": {
    "scrolled": true
   },
   "outputs": [],
   "source": [
    "lat_cloud_pl = clean_city_df.plot(kind=\"scatter\", x=\"Lat\", y=\"Cloudiness\", grid=True, figsize=(6,4), facecolors=\"blue\", edgecolors=\"black\", s=35,\n",
    "              title=(f'City Latitude vs. Cloudiness (todays date)'))\n",
    "\n",
    "\n",
    "lat_cloud_pl.set_xlabel(\"Latitude\")\n",
    "lat_cloud_pl.set_ylabel(\"Cloudiness (%)\")\n",
    "\n",
    "plt.savefig(\"../output_data/CloudinessVsLatitude.png\")\n",
    "plt.show()"
   ]
  },
  {
   "cell_type": "markdown",
   "metadata": {},
   "source": [
    "## Latitude vs. Wind Speed Plot"
   ]
  },
  {
   "cell_type": "code",
   "execution_count": null,
   "metadata": {},
   "outputs": [],
   "source": [
    "lat_wind_pl = clean_city_df.plot(kind=\"scatter\", x=\"Lat\", y=\"Wind Speed\", grid=True, figsize=(6,4), facecolors=\"blue\", edgecolors=\"black\", s=35,\n",
    "              title=(f'City Latitude vs. Wind Speed (todays date)'))\n",
    "\n",
    "lat_wind_pl.set_xlabel(\"Latitude\")\n",
    "lat_wind_pl.set_ylabel(\"Wind Speed (kmph)\")\n",
    "\n",
    "plt.savefig(\"../output_data/WindSpeedVsLatitude.png\")\n",
    "plt.show()"
   ]
  },
  {
   "cell_type": "markdown",
   "metadata": {},
   "source": [
    "## Linear Regression"
   ]
  },
  {
   "cell_type": "code",
   "execution_count": null,
   "metadata": {},
   "outputs": [],
   "source": [
    "northern_hem_df = clean_city_df.loc[clean_city_df['Lat'] >= 0 ].copy()\n",
    "\n",
    "southern_hem_df = clean_city_df.loc[clean_city_df['Lat'] < 0 ].copy()"
   ]
  },
  {
   "cell_type": "markdown",
   "metadata": {},
   "source": [
    "####  Northern Hemisphere - Max Temp vs. Latitude Linear Regression"
   ]
  },
  {
   "cell_type": "code",
   "execution_count": null,
   "metadata": {},
   "outputs": [],
   "source": [
    "nor_temp_pl = northern_hem_df.plot(kind=\"scatter\", x=\"Lat\", y=\"Max Temp\", figsize=(6,4), facecolors=\"blue\", s=35,\n",
    "              title=(f'Northern Hemisphere - City Latitude vs. Max Temperature (todays date)'))\n",
    "\n",
    "(slope_nt, intercept_nt, rvalue_nt, pvalue_nt, stderr_nt) = linregress(northern_hem_df['Lat'], northern_hem_df['Max Temp'])\n",
    "\n",
    "print(f\"The r-squared is: {rvalue_nt**2}\")\n",
    "\n",
    "regress_values_nt = northern_hem_df['Lat'] * slope_nt + intercept_nt\n",
    "line_eq_nt = \"y = \" + str(round(slope_nt,2)) + \"x + \" + str(round(intercept_nt,2))\n",
    "\n",
    "nor_temp_pl.plot(northern_hem_df['Lat'],regress_values_nt,\"r-\")\n",
    "#nor_temp_pl.annotate(line_eq_nt,(30,-20),fontsize=15,color=\"red\")\n",
    "\n",
    "nor_temp_pl.set_xlabel(\"Latitude\")\n",
    "nor_temp_pl.set_ylabel(\"Max Temperature (C)\")\n",
    "\n",
    "plt.show()"
   ]
  },
  {
   "cell_type": "markdown",
   "metadata": {},
   "source": [
    "####  Southern Hemisphere - Max Temp vs. Latitude Linear Regression"
   ]
  },
  {
   "cell_type": "code",
   "execution_count": null,
   "metadata": {},
   "outputs": [],
   "source": [
    "sou_temp_pl = southern_hem_df.plot(kind=\"scatter\", x=\"Lat\", y=\"Max Temp\", figsize=(6,4), facecolors=\"blue\", s=35,\n",
    "              title=(f'Southern Hemisphere - City Latitude vs. Max Temperature (todays date)'))\n",
    "\n",
    "(slope_st, intercept_st, rvalue_st, pvalue_st, stderr_st) = linregress(southern_hem_df['Lat'], southern_hem_df['Max Temp'])\n",
    "\n",
    "print(f\"The r-squared is: {rvalue_st**2}\")\n",
    "\n",
    "regress_values_st = southern_hem_df['Lat'] * slope_st + intercept_st\n",
    "line_eq_st = \"y = \" + str(round(slope_st,2)) + \"x + \" + str(round(intercept_st,2))\n",
    "\n",
    "sou_temp_pl.plot(southern_hem_df['Lat'],regress_values_st,\"r-\")\n",
    "#sou_temp_pl.annotate(line_eq_st,(-33.90,17.5),fontsize=15,color=\"red\")\n",
    "\n",
    "sou_temp_pl.set_xlabel(\"Latitude\")\n",
    "sou_temp_pl.set_ylabel(\"Max Temperature (C)\")\n",
    "\n",
    "plt.show()"
   ]
  },
  {
   "cell_type": "markdown",
   "metadata": {},
   "source": [
    "####  Northern Hemisphere - Humidity (%) vs. Latitude Linear Regression"
   ]
  },
  {
   "cell_type": "code",
   "execution_count": null,
   "metadata": {},
   "outputs": [],
   "source": [
    "nor_hum_pl = northern_hem_df.plot(kind=\"scatter\", x=\"Lat\", y=\"Humidity\", figsize=(6,4), facecolors=\"blue\", s=35,\n",
    "              title=(f'Northern Hemisphere - City Latitude vs. Humidity (todays date)'))\n",
    "\n",
    "(slope_nh, intercept_nh, rvalue_nh, pvalue_nh, stderr_nh) = linregress(northern_hem_df['Lat'], northern_hem_df['Humidity'])\n",
    "\n",
    "print(f\"The r-squared is: {rvalue_nh**2}\")\n",
    "\n",
    "regress_values_nh = northern_hem_df['Lat'] * slope_nh + intercept_nh\n",
    "line_eq_nh = \"y = \" + str(round(slope_nh,2)) + \"x + \" + str(round(intercept_nh,2))\n",
    "\n",
    "nor_hum_pl.plot(northern_hem_df['Lat'],regress_values_nh,\"r-\")\n",
    "#nor_hum_pl.annotate(line_eq_nh,(50,75),fontsize=15,color=\"red\")\n",
    "\n",
    "nor_hum_pl.set_xlabel(\"Latitude\")\n",
    "nor_hum_pl.set_ylabel(\"Humidity (%)\")\n",
    "\n",
    "plt.show()"
   ]
  },
  {
   "cell_type": "markdown",
   "metadata": {},
   "source": [
    "####  Southern Hemisphere - Humidity (%) vs. Latitude Linear Regression"
   ]
  },
  {
   "cell_type": "code",
   "execution_count": null,
   "metadata": {},
   "outputs": [],
   "source": [
    "sou_hum_pl = southern_hem_df.plot(kind=\"scatter\", x=\"Lat\", y=\"Humidity\", figsize=(6,4), facecolors=\"blue\", s=35,\n",
    "              title=(f'Southern Hemisphere - City Latitude vs. Humidity (todays date)'))\n",
    "\n",
    "(slope_sh, intercept_sh, rvalue_sh, pvalue_sh, stderr_sh) = linregress(southern_hem_df['Lat'], southern_hem_df['Humidity'])\n",
    "\n",
    "print(f\"The r-squared is: {rvalue_sh**2}\")\n",
    "\n",
    "regress_values_sh = southern_hem_df['Lat'] * slope_sh + intercept_sh\n",
    "line_eq_sh = \"y = \" + str(round(slope_sh,2)) + \"x + \" + str(round(intercept_sh,2))\n",
    "\n",
    "sou_hum_pl.plot(southern_hem_df['Lat'],regress_values_sh,\"r-\")\n",
    "#sou_hum_pl.annotate(line_eq_sh,(-33.90,97.5),fontsize=15,color=\"red\")\n",
    "\n",
    "sou_hum_pl.set_xlabel(\"Latitude\")\n",
    "sou_hum_pl.set_ylabel(\"Humidity (%)\")\n",
    "\n",
    "plt.show()"
   ]
  },
  {
   "cell_type": "markdown",
   "metadata": {},
   "source": [
    "####  Northern Hemisphere - Cloudiness (%) vs. Latitude Linear Regression"
   ]
  },
  {
   "cell_type": "code",
   "execution_count": null,
   "metadata": {},
   "outputs": [],
   "source": [
    "nor_cloud_pl = northern_hem_df.plot(kind=\"scatter\", x=\"Lat\", y=\"Cloudiness\", figsize=(6,4), facecolors=\"blue\", s=35,\n",
    "              title=(f'Northern Hemisphere - City Latitude vs. Cloudiness (todays date)'))\n",
    "\n",
    "(slope_nc, intercept_nc, rvalue_nc, pvalue_nc, stderr_nc) = linregress(northern_hem_df['Lat'], northern_hem_df['Cloudiness'])\n",
    "\n",
    "print(f\"The r-squared is: {rvalue_nc**2}\")\n",
    "\n",
    "regress_values_nc = northern_hem_df['Lat'] * slope_nc + intercept_nc\n",
    "line_eq_nc = \"y = \" + str(round(slope_nc,2)) + \"x + \" + str(round(intercept_nc,2))\n",
    "\n",
    "nor_cloud_pl.plot(northern_hem_df['Lat'],regress_values_nc,\"r-\")\n",
    "#nor_cloud_pl.annotate(line_eq_nc,(50,0),fontsize=15,color=\"red\")\n",
    "\n",
    "nor_cloud_pl.set_xlabel(\"Latitude\")\n",
    "nor_cloud_pl.set_ylabel(\"Cloudiness (%)\")\n",
    "\n",
    "plt.show()"
   ]
  },
  {
   "cell_type": "markdown",
   "metadata": {},
   "source": [
    "####  Southern Hemisphere - Cloudiness (%) vs. Latitude Linear Regression"
   ]
  },
  {
   "cell_type": "code",
   "execution_count": null,
   "metadata": {},
   "outputs": [],
   "source": [
    "sou_cloud_pl = southern_hem_df.plot(kind=\"scatter\", x=\"Lat\", y=\"Cloudiness\", figsize=(6,4), facecolors=\"blue\", s=35,\n",
    "              title=(f'Southern Hemisphere - City Latitude vs. Cloudiness (todays date)'))\n",
    "\n",
    "(slope_sc, intercept_sc, rvalue_sc, pvalue_sc, stderr_sc) = linregress(southern_hem_df['Lat'], southern_hem_df['Cloudiness'])\n",
    "\n",
    "print(f\"The r-squared is: {rvalue_sc**2}\")\n",
    "\n",
    "regress_values_sc = southern_hem_df['Lat'] * slope_sc + intercept_sc\n",
    "line_eq_sc = \"y = \" + str(round(slope_sc,2)) + \"x + \" + str(round(intercept_sc,2))\n",
    "\n",
    "sou_cloud_pl.plot(southern_hem_df['Lat'],regress_values_sc,\"r-\")\n",
    "#sou_cloud_pl.annotate(line_eq_sc,(-33.90,0),fontsize=15,color=\"red\")\n",
    "\n",
    "sou_cloud_pl.set_xlabel(\"Latitude\")\n",
    "sou_cloud_pl.set_ylabel(\"Cloudiness (%)\")\n",
    "\n",
    "plt.show()"
   ]
  },
  {
   "cell_type": "markdown",
   "metadata": {},
   "source": [
    "####  Northern Hemisphere - Wind Speed (mph) vs. Latitude Linear Regression"
   ]
  },
  {
   "cell_type": "code",
   "execution_count": null,
   "metadata": {},
   "outputs": [],
   "source": [
    "nor_wind_pl = northern_hem_df.plot(kind=\"scatter\", x=\"Lat\", y=\"Wind Speed\", figsize=(6,4), facecolors=\"blue\", s=35,\n",
    "              title=(f'Northern Hemisphere - City Latitude vs. Wind Speed (todays date)'))\n",
    "\n",
    "(slope_nw, intercept_nw, rvalue_nw, pvalue_nw, stderr_nw) = linregress(northern_hem_df['Lat'], northern_hem_df['Wind Speed'])\n",
    "\n",
    "print(f\"The r-squared is: {rvalue_nw**2}\")\n",
    "\n",
    "regress_values_nw = northern_hem_df['Lat'] * slope_nw + intercept_nw\n",
    "line_eq_nw = \"y = \" + str(round(slope_nw,2)) + \"x + \" + str(round(intercept_nw,2))\n",
    "\n",
    "nor_wind_pl.plot(northern_hem_df['Lat'],regress_values_nw,\"r-\")\n",
    "#nor_wind_pl.annotate(line_eq_nw,(50,1.2),fontsize=15,color=\"red\")\n",
    "\n",
    "nor_wind_pl.set_xlabel(\"Latitude\")\n",
    "nor_wind_pl.set_ylabel(\"Wind Speed (kmph)\")\n",
    "\n",
    "plt.show()"
   ]
  },
  {
   "cell_type": "markdown",
   "metadata": {},
   "source": [
    "####  Southern Hemisphere - Wind Speed (mph) vs. Latitude Linear Regression"
   ]
  },
  {
   "cell_type": "code",
   "execution_count": null,
   "metadata": {
    "scrolled": true
   },
   "outputs": [],
   "source": [
    "sou_wind_pl = southern_hem_df.plot(kind=\"scatter\", x=\"Lat\", y=\"Wind Speed\", figsize=(6,4), facecolors=\"blue\", s=35,\n",
    "              title=(f'Southern Hemisphere - City Latitude vs. Wind Speed (todays date)'))\n",
    "\n",
    "(slope_sw, intercept_sw, rvalue_sw, pvalue_sw, stderr_sw) = linregress(southern_hem_df['Lat'], southern_hem_df['Wind Speed'])\n",
    "\n",
    "print(f\"The r-squared is: {rvalue_sw**2}\")\n",
    "\n",
    "regress_values_sw = southern_hem_df['Lat'] * slope_sw + intercept_sw\n",
    "line_eq_sw = \"y = \" + str(round(slope_sw,2)) + \"x + \" + str(round(intercept_sw,2))\n",
    "\n",
    "sou_wind_pl.plot(southern_hem_df['Lat'],regress_values_sw,\"r-\")\n",
    "#sou_wind_pl.annotate(line_eq_sw,(-33.80,4.15),fontsize=15,color=\"red\")\n",
    "\n",
    "sou_wind_pl.set_xlabel(\"Latitude\")\n",
    "sou_wind_pl.set_ylabel(\"Wind Speed (kmph)\")\n",
    "\n",
    "plt.show()"
   ]
  }
 ],
 "metadata": {
  "anaconda-cloud": {},
  "kernel_info": {
   "name": "python3"
  },
  "kernelspec": {
   "display_name": "Python 3",
   "language": "python",
   "name": "python3"
  },
  "language_info": {
   "codemirror_mode": {
    "name": "ipython",
    "version": 3
   },
   "file_extension": ".py",
   "mimetype": "text/x-python",
   "name": "python",
   "nbconvert_exporter": "python",
   "pygments_lexer": "ipython3",
   "version": "3.6.10"
  },
  "latex_envs": {
   "LaTeX_envs_menu_present": true,
   "autoclose": false,
   "autocomplete": true,
   "bibliofile": "biblio.bib",
   "cite_by": "apalike",
   "current_citInitial": 1,
   "eqLabelWithNumbers": true,
   "eqNumInitial": 1,
   "hotkeys": {
    "equation": "Ctrl-E",
    "itemize": "Ctrl-I"
   },
   "labels_anchors": false,
   "latex_user_defs": false,
   "report_style_numbering": false,
   "user_envs_cfg": false
  },
  "nteract": {
   "version": "0.12.3"
  }
 },
 "nbformat": 4,
 "nbformat_minor": 2
}
